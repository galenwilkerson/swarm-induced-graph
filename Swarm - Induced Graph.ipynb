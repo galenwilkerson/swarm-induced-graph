{
 "cells": [
  {
   "cell_type": "markdown",
   "metadata": {},
   "source": [
    "# Swarm-Induced Graph\n",
    "\n",
    "Using 'robot' positions at each timestep, compute pair-wise distances.\n",
    "Robots within a threshold distance \n",
    "\n",
    "Galen Wilkerson\n",
    "\n",
    "(using liquidfun robotics swarm by Calum Emrie, University of Edinburgh)"
   ]
  },
  {
   "cell_type": "code",
   "execution_count": 214,
   "metadata": {},
   "outputs": [],
   "source": [
    "import pandas as pd\n",
    "\n",
    "import ipywidgets as widgets\n",
    "from ipywidgets import HBox, VBox\n",
    "import numpy as np\n",
    "import matplotlib.pyplot as plt\n",
    "from IPython.display import display\n",
    "%matplotlib inline\n",
    "\n",
    "#If you want all graphs to be drawn inline, then you can set a global parameter.\n",
    "#from nxpd import draw\n",
    "#from nxpd import nxpdParams\n",
    "#nxpdParams['show'] = 'ipynb'\n",
    "\n",
    "from IPython import display\n",
    "from ipywidgets import interact\n",
    "\n",
    "import scipy.spatial.distance\n",
    "import networkx as nx"
   ]
  },
  {
   "cell_type": "code",
   "execution_count": 215,
   "metadata": {},
   "outputs": [],
   "source": [
    "# read position data from file\n",
    "df = pd.read_csv('./example_freeze', sep=' ', header=None)\n",
    "\n",
    "# last column is junk\n",
    "y = df.pop(500)"
   ]
  },
  {
   "cell_type": "code",
   "execution_count": 216,
   "metadata": {},
   "outputs": [
    {
     "data": {
      "application/vnd.jupyter.widget-view+json": {
       "model_id": "b267a2b88cba4a88a198a356effd5373",
       "version_major": 2,
       "version_minor": 0
      },
      "text/plain": [
       "interactive(children=(IntSlider(value=0, description='timestamp', max=102), FloatSlider(value=1.0, description…"
      ]
     },
     "metadata": {},
     "output_type": "display_data"
    }
   ],
   "source": [
    "row = df.loc[0].values\n",
    "row = row.reshape(250,2)\n",
    "\n",
    "#plt.scatter(row[:,0], row[:,1], marker='.');\n",
    "\n",
    "\n",
    "def update(timestamp = widgets.IntSlider(min=0,max=len(df),step=1,value=0), \n",
    "           distance_threshold = widgets.FloatSlider(min=0.01,max=7.5,step=.01,value=1)):\n",
    "    \n",
    "    row = df.loc[timestamp].values\n",
    "    row = row.reshape(250,2)\n",
    "\n",
    "\n",
    "    plt.figure(figsize=[10,10])\n",
    "    plt.clf()\n",
    "\n",
    "    plt.subplot(221)\n",
    "    plt.scatter(row[:,0], row[:,1], marker='.');\n",
    "    plt.title('positions')\n",
    "\n",
    "    plt.subplot(222);\n",
    "    \n",
    "    # calculate pairwise distances\n",
    "\n",
    "\n",
    "    X = row\n",
    "    Y = scipy.spatial.distance.squareform(scipy.spatial.distance.pdist(X, 'euclidean'))\n",
    "    adj = Y < distance_threshold\n",
    "    \n",
    "    adj_mat = Y * adj.T\n",
    "    \n",
    "    G=nx.from_numpy_matrix(adj_mat)\n",
    "\n",
    "    edges,weights = zip(*nx.get_edge_attributes(G,'weight').items())\n",
    "\n",
    "    pos = dict(zip(range(len(row)), row))\n",
    "    \n",
    "    \n",
    "    nx.draw(G, pos=pos, \n",
    "            node_size=3, \n",
    "            node_color = 'k',\n",
    "            #edge_color='grey', \n",
    "            alpha=.5,\n",
    "            edgelist=edges, \n",
    "            edge_color=1 - np.array(weights)/max(weights),\n",
    "            edge_cmap=plt.cm.Blues);\n",
    "    \n",
    "    plt.title('connections')\n",
    "    \n",
    "    plt.subplot(223)\n",
    "    plt.title('degree histogram')\n",
    "    plt.scatter(range(len(nx.degree_histogram(G))),nx.degree_histogram(G), marker='.');\n",
    "    \n",
    "    plt.subplot(224)\n",
    "    plt.title('distance histogram')\n",
    "    plt.hist(Y.flatten(), bins = 50);\n",
    "    \n",
    "interact(update);\n"
   ]
  },
  {
   "cell_type": "code",
   "execution_count": null,
   "metadata": {},
   "outputs": [],
   "source": []
  }
 ],
 "metadata": {
  "kernelspec": {
   "display_name": "Python 3",
   "language": "python",
   "name": "python3"
  },
  "language_info": {
   "codemirror_mode": {
    "name": "ipython",
    "version": 3
   },
   "file_extension": ".py",
   "mimetype": "text/x-python",
   "name": "python",
   "nbconvert_exporter": "python",
   "pygments_lexer": "ipython3",
   "version": "3.6.5"
  }
 },
 "nbformat": 4,
 "nbformat_minor": 2
}
